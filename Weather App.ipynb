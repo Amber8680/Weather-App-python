{
 "cells": [
  {
   "cell_type": "code",
   "execution_count": 1,
   "id": "738d0530-4681-4f8c-9795-46f5d4322329",
   "metadata": {},
   "outputs": [],
   "source": [
    "import requests\n",
    "import json\n",
    "import pyttsx3"
   ]
  },
  {
   "cell_type": "code",
   "execution_count": 4,
   "id": "1fe834f6-5e36-4602-9efb-dff7742cb03e",
   "metadata": {},
   "outputs": [
    {
     "name": "stdin",
     "output_type": "stream",
     "text": [
      "Enter the name of the city:  japan\n"
     ]
    },
    {
     "name": "stdout",
     "output_type": "stream",
     "text": [
      "19.3 degrees\n"
     ]
    },
    {
     "name": "stdin",
     "output_type": "stream",
     "text": [
      "Enter the name of the city:  kolkata\n"
     ]
    },
    {
     "name": "stdout",
     "output_type": "stream",
     "text": [
      "32.3 degrees\n"
     ]
    },
    {
     "name": "stdin",
     "output_type": "stream",
     "text": [
      "Enter the name of the city:  none\n"
     ]
    },
    {
     "name": "stdout",
     "output_type": "stream",
     "text": [
      "Thankyou\n"
     ]
    }
   ],
   "source": [
    "engine = pyttsx3.init()\n",
    "# API KEY = a361df11f16f4f2c9d5185209230307\n",
    "while(True):\n",
    "    city = input(\"Enter the name of the city: \")\n",
    "    if city == \"none\":\n",
    "        print(\"Thankyou\")\n",
    "        break\n",
    "    url = f\"http://api.weatherapi.com/v1/current.json?key=a361df11f16f4f2c9d5185209230307&q={city}\"\n",
    "\n",
    "    r = requests.get(url)\n",
    "    # print(r.text)\n",
    "\n",
    "    wdic = json.loads(r.text)\n",
    "    temp = wdic[\"current\"][\"temp_c\"]\n",
    "    print(temp,\"degrees\")\n",
    "    engine.say(f\"The current temperature in {city} is {temp} degrees\")\n",
    "    engine.runAndWait()\n",
    "    engine.stop()\n"
   ]
  },
  {
   "cell_type": "code",
   "execution_count": null,
   "id": "ade4d29c-2c38-4008-8f53-b09bd4e2704f",
   "metadata": {},
   "outputs": [],
   "source": []
  }
 ],
 "metadata": {
  "kernelspec": {
   "display_name": "Python 3 (ipykernel)",
   "language": "python",
   "name": "python3"
  },
  "language_info": {
   "codemirror_mode": {
    "name": "ipython",
    "version": 3
   },
   "file_extension": ".py",
   "mimetype": "text/x-python",
   "name": "python",
   "nbconvert_exporter": "python",
   "pygments_lexer": "ipython3",
   "version": "3.11.4"
  }
 },
 "nbformat": 4,
 "nbformat_minor": 5
}
